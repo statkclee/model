{
 "cells": [
  {
   "cell_type": "markdown",
   "metadata": {},
   "source": [
    "# xgBoost 파이썬\n",
    "\n",
    "[`xgBoost`](https://xgboost.readthedocs.io/en/latest/)는 Extreme Gradient Boosting 알고리즘으로 원래 C++로 작성되었으나 캐글 경진대회에서 너무나도 뛰어난 성능을 보여 R을 비롯한 파이썬에서도 API를 통해 활용할 수 있도록 저변이 확대되었다. 물론 자바, 스칼라에서도 사용할 수 있다.\n",
    "\n",
    "xgBoost를 이해하기 위해서는 기본적으로 지도학습(supervised learning), 의사결정나무(decision tree), 부스팅(boosting)과 함께 앙상블(ensemble)에 대한 이해를 전제로 하고 있다. 자세한 사항은 [앙상블(ensemble) 모형](https://statkclee.github.io/model/model-ensemble.html)을 참조한다."
   ]
  },
  {
   "cell_type": "markdown",
   "metadata": {},
   "source": [
    "## xgBoost 설치\n",
    "\n",
    "xgBoost를 설치하는 방법은 윈도우 환경에서 먼저 `The environment is inconsistent, please check the package plan carefully` 오류를 만날 수 있으니... 먼저.. 환경을 최신 환경으로 맞춘 후에 `xgBoost`를 설치한다.\n",
    "\n",
    "1. `conda clean --all`, `conda update --all`\n",
    "1. `conda install anaconda`\n",
    "1. `conda install -c mndrake xgboost`, `conda install -c anaconda py-xgboost`\n",
    "\n",
    "참고: [How to install xgboost in Anaconda Python (Windows platform)?](https://stackoverflow.com/questions/35139108/how-to-install-xgboost-in-anaconda-python-windows-platform)"
   ]
  },
  {
   "cell_type": "markdown",
   "metadata": {},
   "source": [
    "## xgBoost 헬로월드\n",
    "\n",
    "먼저 xgBoost 헬로월드를 찍어보자. 데이터는 데이터캠프 블로그 [Avinash Navlani(August 14th, 2018), \"Predicting Employee Churn in Python\", Datacamp](https://www.datacamp.com/community/tutorials/predicting-employee-churn-python)을 참조한다."
   ]
  },
  {
   "cell_type": "code",
   "execution_count": 1,
   "metadata": {},
   "outputs": [
    {
     "name": "stdout",
     "output_type": "stream",
     "text": [
      "sklearn version: 0.21.2\n",
      "xgboost version: 0.90\n"
     ]
    },
    {
     "data": {
      "text/html": [
       "<div>\n",
       "<style scoped>\n",
       "    .dataframe tbody tr th:only-of-type {\n",
       "        vertical-align: middle;\n",
       "    }\n",
       "\n",
       "    .dataframe tbody tr th {\n",
       "        vertical-align: top;\n",
       "    }\n",
       "\n",
       "    .dataframe thead th {\n",
       "        text-align: right;\n",
       "    }\n",
       "</style>\n",
       "<table border=\"1\" class=\"dataframe\">\n",
       "  <thead>\n",
       "    <tr style=\"text-align: right;\">\n",
       "      <th></th>\n",
       "      <th>satisfaction_level</th>\n",
       "      <th>last_evaluation</th>\n",
       "      <th>number_project</th>\n",
       "      <th>average_montly_hours</th>\n",
       "      <th>time_spend_company</th>\n",
       "      <th>Work_accident</th>\n",
       "      <th>left</th>\n",
       "      <th>promotion_last_5years</th>\n",
       "      <th>Departments</th>\n",
       "      <th>salary</th>\n",
       "    </tr>\n",
       "  </thead>\n",
       "  <tbody>\n",
       "    <tr>\n",
       "      <th>0</th>\n",
       "      <td>0.38</td>\n",
       "      <td>0.53</td>\n",
       "      <td>2</td>\n",
       "      <td>157</td>\n",
       "      <td>3</td>\n",
       "      <td>0</td>\n",
       "      <td>1</td>\n",
       "      <td>0</td>\n",
       "      <td>sales</td>\n",
       "      <td>low</td>\n",
       "    </tr>\n",
       "    <tr>\n",
       "      <th>1</th>\n",
       "      <td>0.80</td>\n",
       "      <td>0.86</td>\n",
       "      <td>5</td>\n",
       "      <td>262</td>\n",
       "      <td>6</td>\n",
       "      <td>0</td>\n",
       "      <td>1</td>\n",
       "      <td>0</td>\n",
       "      <td>sales</td>\n",
       "      <td>medium</td>\n",
       "    </tr>\n",
       "    <tr>\n",
       "      <th>2</th>\n",
       "      <td>0.11</td>\n",
       "      <td>0.88</td>\n",
       "      <td>7</td>\n",
       "      <td>272</td>\n",
       "      <td>4</td>\n",
       "      <td>0</td>\n",
       "      <td>1</td>\n",
       "      <td>0</td>\n",
       "      <td>sales</td>\n",
       "      <td>medium</td>\n",
       "    </tr>\n",
       "    <tr>\n",
       "      <th>3</th>\n",
       "      <td>0.72</td>\n",
       "      <td>0.87</td>\n",
       "      <td>5</td>\n",
       "      <td>223</td>\n",
       "      <td>5</td>\n",
       "      <td>0</td>\n",
       "      <td>1</td>\n",
       "      <td>0</td>\n",
       "      <td>sales</td>\n",
       "      <td>low</td>\n",
       "    </tr>\n",
       "    <tr>\n",
       "      <th>4</th>\n",
       "      <td>0.37</td>\n",
       "      <td>0.52</td>\n",
       "      <td>2</td>\n",
       "      <td>159</td>\n",
       "      <td>3</td>\n",
       "      <td>0</td>\n",
       "      <td>1</td>\n",
       "      <td>0</td>\n",
       "      <td>sales</td>\n",
       "      <td>low</td>\n",
       "    </tr>\n",
       "  </tbody>\n",
       "</table>\n",
       "</div>"
      ],
      "text/plain": [
       "   satisfaction_level  last_evaluation  number_project  average_montly_hours  \\\n",
       "0                0.38             0.53               2                   157   \n",
       "1                0.80             0.86               5                   262   \n",
       "2                0.11             0.88               7                   272   \n",
       "3                0.72             0.87               5                   223   \n",
       "4                0.37             0.52               2                   159   \n",
       "\n",
       "   time_spend_company  Work_accident  left  promotion_last_5years  \\\n",
       "0                   3              0     1                      0   \n",
       "1                   6              0     1                      0   \n",
       "2                   4              0     1                      0   \n",
       "3                   5              0     1                      0   \n",
       "4                   3              0     1                      0   \n",
       "\n",
       "  Departments   salary  \n",
       "0        sales     low  \n",
       "1        sales  medium  \n",
       "2        sales  medium  \n",
       "3        sales     low  \n",
       "4        sales     low  "
      ]
     },
     "execution_count": 1,
     "metadata": {},
     "output_type": "execute_result"
    }
   ],
   "source": [
    "# 경고 출력하지 않음 -----------\n",
    "import warnings\n",
    "warnings.filterwarnings('ignore')\n",
    "\n",
    "# 라이브러리와 데이터 가져오기\n",
    "import numpy as np\n",
    "import pandas as pd\n",
    "from sklearn.model_selection import train_test_split\n",
    "import xgboost as xgb\n",
    "import sklearn\n",
    "import sklearn.metrics as metrics\n",
    "\n",
    "print('sklearn version: %s' % sklearn.__version__)\n",
    "print('xgboost version: %s' % xgb.__version__)\n",
    "\n",
    "hr_df = pd.read_csv(\"data/HR_comma_sep.csv\")\n",
    "hr_df.head()"
   ]
  },
  {
   "cell_type": "code",
   "execution_count": 2,
   "metadata": {},
   "outputs": [
    {
     "name": "stdout",
     "output_type": "stream",
     "text": [
      "정확도: 0.9664444444444444\n"
     ]
    }
   ],
   "source": [
    "colnames = ['satisfaction_level', 'last_evaluation', 'number_project', 'average_montly_hours', 'time_spend_company', 'Work_accident', \n",
    "       'promotion_last_5years']\n",
    "\n",
    "X, y = hr_df[colnames], hr_df[['left']]\n",
    "X_train, X_test, y_train, y_test= train_test_split(X, y, test_size=0.3, random_state=777)\n",
    "\n",
    "xg_clf = xgb.XGBClassifier(objective='binary:logistic', n_estimators=10, seed=777)\n",
    "xg_clf.fit(X_train, y_train)\n",
    "\n",
    "pred = xg_clf.predict(X_test)\n",
    "print(f'정확도: {metrics.accuracy_score(y_test, pred)}')"
   ]
  },
  {
   "cell_type": "markdown",
   "metadata": {},
   "source": [
    "# 파이썬 파이프라인(pipeline)\n",
    "\n",
    "파이썬 파이프라인은 이름을 갖는 튜플 리스트로 기계학습 알고리즘 제작에 scikit-learn 객체를 튜플 형태 파이프에 담아 흘러보낼 수 있다. 이것이 필요한 이유는 xgBoost를 파이썬 파이프라인에 담아내게 되면 피처 공학(Feature Engineering)을 비롯하여 기계학습에 관련된 다양하 작업 절차 및 예측모형 평가를 자동화할 수 있다는 점에서 엄청 편리하다.\n",
    "\n",
    "## 파이프라인 헬로월드\n",
    "\n",
    "`xgBoost` 알고리즘을 파이썬 파이프라인에 실어 보내보자."
   ]
  },
  {
   "cell_type": "code",
   "execution_count": 3,
   "metadata": {},
   "outputs": [
    {
     "name": "stdout",
     "output_type": "stream",
     "text": [
      "정확도(파이프라인): 0.9666666666666667\n"
     ]
    }
   ],
   "source": [
    "# 라이브러리와 데이터 가져오기\n",
    "import numpy as np\n",
    "import pandas as pd\n",
    "from sklearn.model_selection import train_test_split\n",
    "from sklearn.pipeline import Pipeline\n",
    "import xgboost as xgb\n",
    "from sklearn.model_selection import cross_val_score\n",
    "\n",
    "# 훈련/시험 데이터 분리\n",
    "hr_df = pd.read_csv(\"data/HR_comma_sep.csv\")\n",
    "\n",
    "colnames = ['satisfaction_level', 'last_evaluation', 'number_project', 'average_montly_hours', 'time_spend_company', 'Work_accident', \n",
    "       'promotion_last_5years']\n",
    "\n",
    "X, y = hr_df[colnames], hr_df[['left']]\n",
    "X_train, X_test, y_train, y_test= train_test_split(X, y, test_size=0.3, random_state=777)\n",
    "\n",
    "# 파이프라인 구축\n",
    "xgb_pipeline = Pipeline([\n",
    "    (\"xgb_model\", xgb.XGBClassifier(objective='binary:logistic', n_estimators=10, seed=777))\n",
    "])\n",
    "\n",
    "# 예측 ----------------------------\n",
    "xgb_pipeline.fit(X, y, xgb_model__eval_metric='auc')\n",
    "preds = xgb_pipeline.predict(X_test)\n",
    "\n",
    "print(f'정확도(파이프라인): {metrics.accuracy_score(y_test, preds)}')"
   ]
  }
 ],
 "metadata": {
  "kernelspec": {
   "display_name": "Python 3",
   "language": "python",
   "name": "python3"
  },
  "language_info": {
   "codemirror_mode": {
    "name": "ipython",
    "version": 3
   },
   "file_extension": ".py",
   "mimetype": "text/x-python",
   "name": "python",
   "nbconvert_exporter": "python",
   "pygments_lexer": "ipython3",
   "version": "3.7.4"
  },
  "toc": {
   "base_numbering": 1,
   "nav_menu": {},
   "number_sections": true,
   "sideBar": true,
   "skip_h1_title": false,
   "title_cell": "Table of Contents",
   "title_sidebar": "Contents",
   "toc_cell": false,
   "toc_position": {},
   "toc_section_display": true,
   "toc_window_display": false
  }
 },
 "nbformat": 4,
 "nbformat_minor": 2
}
